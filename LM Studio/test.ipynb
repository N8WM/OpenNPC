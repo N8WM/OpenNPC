{
 "cells": [
  {
   "cell_type": "code",
   "execution_count": 83,
   "metadata": {},
   "outputs": [],
   "source": [
    "# Example: reuse your existing OpenAI setup\n",
    "from openai import OpenAI\n",
    "from bs4 import BeautifulSoup\n",
    "import xml.etree.ElementTree as ET\n",
    "import pickle"
   ]
  },
  {
   "cell_type": "code",
   "execution_count": 86,
   "metadata": {},
   "outputs": [],
   "source": [
    "sessions_file_path = \"saved_sessions.pkl\""
   ]
  },
  {
   "cell_type": "code",
   "execution_count": 85,
   "metadata": {},
   "outputs": [
    {
     "name": "stdout",
     "output_type": "stream",
     "text": [
      "{'NPC_Manager': [{'role': 'user', 'content': ChatCompletionMessage(content='```\\nPlease provide the output in this format. I will use it to create the two generic agents and their conflict.\\n\\nHere is my attempt at generating the background information:\\n\\n```xml\\n<background class=\"Jett\">\\nJett grew up in a small town with a strong sense of community. He was always fascinated by technology and tinkering, spending hours in his father\\'s garage workshop learning how to fix things. As he got older, Jett realized that his passion for tech could be a career, and he decided to pursue a degree in computer science.\\n</background>\\n\\n<background class=\"Knox\">\\nKnox comes from a big city where individuality is celebrated. He was always drawn to the arts, spending most of his free time drawing and writing poetry. Knox never felt like he quite fit in with his peers, but he loved expressing himself through art. As he got older, Knox realized that his creative passion could be a career, and he decided to pursue a degree in fine arts.\\n</background>\\n\\n<met>\\nJett and Knox met during their freshman year of college at a campus coffee shop. Jett was working on a project for class and needed help debugging some code. Knox, being an art major, didn\\'t know much about coding, but he offered to help Jett brainstorm solutions. They spent hours talking about their respective majors and interests.\\n</met>\\n\\n<bond>\\nJett and Knox bonded over their shared passion for creative problem-solving. Despite coming from different fields, they found that they complemented each other well, with Jett\\'s technical expertise and Knox\\'s artistic perspective.\\n</bond>\\n\\n<pastime>\\nIn their free time, Jett and Knox enjoyed playing a game of \"Escape the Room\" together. They loved the challenge of solving puzzles and working as a team to escape the room before time ran out.\\n</pastime>\\n\\n<conflict>\\nAs they entered their senior year, Jett started to get more serious about his plans after graduation. He had always dreamed of starting his own tech company and was determined to make it happen. Knox, on the other hand, was still figuring out what he wanted to do with his life. He felt overwhelmed by the pressure to choose a career path and started to doubt his ability to succeed as an artist.\\n</conflict>\\n\\n<pov class=\"Jett\">\\nI\\'ve always known that I want to start my own tech company. It\\'s been my dream since high school, and I\\'m finally in a position to make it happen. But Knox is holding me back. He\\'s still trying to figure out what he wants to do with his life, and it\\'s affecting our friendship. I feel like we\\'re growing apart, and it\\'s hard for me to understand why Knox can\\'t just get his act together already.\\n</pov>\\n\\n<pov class=\"Knox\">\\nI feel like Jett is always pushing me to make a decision about my future. He says that I need to focus on my art and make a plan, but the truth is, I\\'m still trying to figure out who I am as an artist. Jett\\'s pressure is making me feel like I\\'m failing, and it\\'s causing tension in our friendship. I wish he could understand where I\\'m coming from and be more supportive.\\n</pov>\\n```\\n\\nPlease let me know if this meets your requirements or if there are any changes needed. I\\'ll use this output to create the two generic agents for the game.\\n\\nThank you for your time! I hope you enjoy the game when it\\'s ready.', role='assistant', function_call=None, tool_calls=None)}]}\n"
     ]
    }
   ],
   "source": [
    "# Read Pickle data back into a dictionary\n",
    "with open(sessions_file_path, \"rb\") as pickle_file:\n",
    "    sessions = pickle.load(pickle_file)\n",
    "\n",
    "print(sessions)"
   ]
  },
  {
   "cell_type": "code",
   "execution_count": 61,
   "metadata": {},
   "outputs": [],
   "source": [
    "def get_session(chat_id):\n",
    "    if chat_id not in sessions:\n",
    "        sessions[chat_id] = []\n",
    "    return sessions[chat_id]  "
   ]
  },
  {
   "cell_type": "code",
   "execution_count": 62,
   "metadata": {},
   "outputs": [],
   "source": [
    "# Point to the local server\n",
    "client = OpenAI(base_url=\"http://localhost:1234/v1\", api_key=\"lm-studio\")\n",
    "model = \"lmstudio-community/Meta-Llama-3-8B-Instruct-GGUF\""
   ]
  },
  {
   "cell_type": "code",
   "execution_count": 63,
   "metadata": {},
   "outputs": [],
   "source": [
    "def send_system_preset(sessionID, preset):\n",
    "    session = get_session(sessionID)\n",
    "    completion = client.chat.completions.create(\n",
    "        model=model,\n",
    "        messages= session + [\n",
    "            {\"role\": \"system\", \"content\": preset}\n",
    "        ],\n",
    "        temperature=0.7,\n",
    "    )\n",
    "    session.append({\"role\": \"system\", \"content\": completion.choices[0].message})\n",
    "    return completion.choices[0].message.content"
   ]
  },
  {
   "cell_type": "code",
   "execution_count": 64,
   "metadata": {},
   "outputs": [],
   "source": [
    "def send_chat(sessionID, chat):\n",
    "    session = get_session(sessionID)\n",
    "    completion = client.chat.completions.create(\n",
    "        model=model,\n",
    "        messages= session + [\n",
    "            {\"role\": \"user\", \"content\": chat}\n",
    "        ],\n",
    "        temperature=0.7,\n",
    "    )\n",
    "    session.append({\"role\": \"user\", \"content\": completion.choices[0].message})\n",
    "    return completion.choices[0].message.content"
   ]
  },
  {
   "cell_type": "code",
   "execution_count": 65,
   "metadata": {},
   "outputs": [],
   "source": [
    "with open('NPCmanager_prompt.txt', 'r') as f:\n",
    "    NPCmanager_prompt = f.read()\n",
    "\n",
    "init_scenario = send_chat('NPC_Manager', NPCmanager_prompt)"
   ]
  },
  {
   "cell_type": "code",
   "execution_count": 66,
   "metadata": {},
   "outputs": [],
   "source": [
    "Bs_data = BeautifulSoup(init_scenario, \"html.parser\")"
   ]
  },
  {
   "cell_type": "code",
   "execution_count": 67,
   "metadata": {},
   "outputs": [],
   "source": [
    "background_jett = Bs_data.find('background', class_=\"Jett\")\n",
    "background_knox = Bs_data.find('background', class_=\"Knox\")\n",
    "met = Bs_data.find('met')\n",
    "bond = Bs_data.find('bond')\n",
    "pastime = Bs_data.find('pastime')\n",
    "conflict = Bs_data.find('conflict')\n",
    "pov_jett = Bs_data.find('pov', class_=\"Jett\")\n",
    "pov_knox = Bs_data.find('pov', class_=\"Knox\")"
   ]
  },
  {
   "cell_type": "code",
   "execution_count": 68,
   "metadata": {},
   "outputs": [],
   "source": [
    "jett_init_text = \"You are role playing as a character called Jett who is recently having a conflict with her close friend Knox. Player is trying to resolve the conflict and get you and Knox to talk to each other again, but you and Knox are bitter about the situation and it is difficult to talk to about it at first.\"\n",
    "knox_init_text = \"You are role playing as a character called Knox who is recently having a conflict with his close friend Jett. Player is trying to resolve the conflict and get you and Jett to talk to each other again, but you and Jett are bitter about the situation and it is difficult to talk to about it at first.\""
   ]
  },
  {
   "cell_type": "code",
   "execution_count": 69,
   "metadata": {},
   "outputs": [],
   "source": [
    "jett_full_prompt = f\"{jett_init_text}\\n\\n=== Background ===\\n\\n{background_jett}\\n{met}\\n{bond}\\n{pastime}\\n\\n=== Conflict ===\\n\\n{conflict}\\n\\n=== POV ===\\n\\n{pov_jett}\"\n",
    "knox_full_prompt = f\"{knox_init_text}\\n\\n=== Background ===\\n\\n{background_knox}\\n{met}\\n{bond}\\n{pastime}\\n\\n=== Conflict ===\\n\\n{conflict}\\n\\n=== POV ===\\n\\n{pov_knox}\""
   ]
  },
  {
   "cell_type": "code",
   "execution_count": 70,
   "metadata": {},
   "outputs": [
    {
     "data": {
      "text/plain": [
       "'You are role playing as a character called Jett who is recently having a conflict with her close friend Knox. Player is trying to resolve the conflict and get you and Knox to talk to each other again, but you and Knox are bitter about the situation and it is difficult to talk to about it at first.\\n\\n=== Background ===\\n\\n<background class=\"Jett\">\\nJett grew up in a small town with a strong sense of community. He was always fascinated by technology and tinkering, spending hours in his father\\'s garage workshop learning how to fix things. As he got older, Jett realized that his passion for tech could be a career, and he decided to pursue a degree in computer science.\\n</background>\\n<met>\\nJett and Knox met during their freshman year of college at a campus coffee shop. Jett was working on a project for class and needed help debugging some code. Knox, being an art major, didn\\'t know much about coding, but he offered to help Jett brainstorm solutions. They spent hours talking about their respective majors and interests.\\n</met>\\n<bond>\\nJett and Knox bonded over their shared passion for creative problem-solving. Despite coming from different fields, they found that they complemented each other well, with Jett\\'s technical expertise and Knox\\'s artistic perspective.\\n</bond>\\n<pastime>\\nIn their free time, Jett and Knox enjoyed playing a game of \"Escape the Room\" together. They loved the challenge of solving puzzles and working as a team to escape the room before time ran out.\\n</pastime>\\n\\n=== Conflict ===\\n\\n<conflict>\\nAs they entered their senior year, Jett started to get more serious about his plans after graduation. He had always dreamed of starting his own tech company and was determined to make it happen. Knox, on the other hand, was still figuring out what he wanted to do with his life. He felt overwhelmed by the pressure to choose a career path and started to doubt his ability to succeed as an artist.\\n</conflict>\\n\\n=== POV ===\\n\\n<pov class=\"Jett\">\\nI\\'ve always known that I want to start my own tech company. It\\'s been my dream since high school, and I\\'m finally in a position to make it happen. But Knox is holding me back. He\\'s still trying to figure out what he wants to do with his life, and it\\'s affecting our friendship. I feel like we\\'re growing apart, and it\\'s hard for me to understand why Knox can\\'t just get his act together already.\\n</pov>'"
      ]
     },
     "execution_count": 70,
     "metadata": {},
     "output_type": "execute_result"
    }
   ],
   "source": [
    "jett_full_prompt"
   ]
  },
  {
   "cell_type": "code",
   "execution_count": 71,
   "metadata": {},
   "outputs": [
    {
     "data": {
      "text/plain": [
       "'You are role playing as a character called Knox who is recently having a conflict with his close friend Jett. Player is trying to resolve the conflict and get you and Jett to talk to each other again, but you and Jett are bitter about the situation and it is difficult to talk to about it at first.\\n\\n=== Background ===\\n\\n<background class=\"Knox\">\\nKnox comes from a big city where individuality is celebrated. He was always drawn to the arts, spending most of his free time drawing and writing poetry. Knox never felt like he quite fit in with his peers, but he loved expressing himself through art. As he got older, Knox realized that his creative passion could be a career, and he decided to pursue a degree in fine arts.\\n</background>\\n<met>\\nJett and Knox met during their freshman year of college at a campus coffee shop. Jett was working on a project for class and needed help debugging some code. Knox, being an art major, didn\\'t know much about coding, but he offered to help Jett brainstorm solutions. They spent hours talking about their respective majors and interests.\\n</met>\\n<bond>\\nJett and Knox bonded over their shared passion for creative problem-solving. Despite coming from different fields, they found that they complemented each other well, with Jett\\'s technical expertise and Knox\\'s artistic perspective.\\n</bond>\\n<pastime>\\nIn their free time, Jett and Knox enjoyed playing a game of \"Escape the Room\" together. They loved the challenge of solving puzzles and working as a team to escape the room before time ran out.\\n</pastime>\\n\\n=== Conflict ===\\n\\n<conflict>\\nAs they entered their senior year, Jett started to get more serious about his plans after graduation. He had always dreamed of starting his own tech company and was determined to make it happen. Knox, on the other hand, was still figuring out what he wanted to do with his life. He felt overwhelmed by the pressure to choose a career path and started to doubt his ability to succeed as an artist.\\n</conflict>\\n\\n=== POV ===\\n\\n<pov class=\"Knox\">\\nI feel like Jett is always pushing me to make a decision about my future. He says that I need to focus on my art and make a plan, but the truth is, I\\'m still trying to figure out who I am as an artist. Jett\\'s pressure is making me feel like I\\'m failing, and it\\'s causing tension in our friendship. I wish he could understand where I\\'m coming from and be more supportive.\\n</pov>'"
      ]
     },
     "execution_count": 71,
     "metadata": {},
     "output_type": "execute_result"
    }
   ],
   "source": [
    "knox_full_prompt"
   ]
  },
  {
   "cell_type": "code",
   "execution_count": 84,
   "metadata": {},
   "outputs": [],
   "source": [
    "with open(sessions_file_path, \"wb\") as pickle_file:\n",
    "    pickle.dump(sessions, pickle_file)"
   ]
  }
 ],
 "metadata": {
  "kernelspec": {
   "display_name": "Python 3",
   "language": "python",
   "name": "python3"
  },
  "language_info": {
   "codemirror_mode": {
    "name": "ipython",
    "version": 3
   },
   "file_extension": ".py",
   "mimetype": "text/x-python",
   "name": "python",
   "nbconvert_exporter": "python",
   "pygments_lexer": "ipython3",
   "version": "3.10.7"
  }
 },
 "nbformat": 4,
 "nbformat_minor": 2
}
